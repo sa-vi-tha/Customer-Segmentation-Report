{
 "cells": [
  {
   "cell_type": "code",
   "execution_count": 21,
   "metadata": {},
   "outputs": [],
   "source": [
    "# Import necessary libraries\n",
    "import pandas as pd\n",
    "import numpy as np\n",
    "from sklearn.preprocessing import MinMaxScaler"
   ]
  },
  {
   "cell_type": "code",
   "execution_count": 22,
   "metadata": {},
   "outputs": [
    {
     "name": "stdout",
     "output_type": "stream",
     "text": [
      "  CustomerID        CustomerName         Region  SignupDate\n",
      "0      C0001    Lawrence Carroll  South America  2022-07-10\n",
      "1      C0002      Elizabeth Lutz           Asia  2022-02-13\n",
      "2      C0003      Michael Rivera  South America  2024-03-07\n",
      "3      C0004  Kathleen Rodriguez  South America  2022-10-09\n",
      "4      C0005         Laura Weber           Asia  2022-08-15\n",
      "****************************************************************************************************\n",
      "  ProductID              ProductName     Category   Price\n",
      "0      P001     ActiveWear Biography        Books  169.30\n",
      "1      P002    ActiveWear Smartwatch  Electronics  346.30\n",
      "2      P003  ComfortLiving Biography        Books   44.12\n",
      "3      P004            BookWorld Rug   Home Decor   95.69\n",
      "4      P005          TechPro T-Shirt     Clothing  429.31\n",
      "****************************************************************************************************\n",
      "  TransactionID CustomerID ProductID      TransactionDate  Quantity  \\\n",
      "0        T00001      C0199      P067  2024-08-25 12:38:23         1   \n",
      "1        T00112      C0146      P067  2024-05-27 22:23:54         1   \n",
      "2        T00166      C0127      P067  2024-04-25 07:38:55         1   \n",
      "3        T00272      C0087      P067  2024-03-26 22:55:37         2   \n",
      "4        T00363      C0070      P067  2024-03-21 15:10:10         3   \n",
      "\n",
      "   TotalValue   Price  \n",
      "0      300.68  300.68  \n",
      "1      300.68  300.68  \n",
      "2      300.68  300.68  \n",
      "3      601.36  300.68  \n",
      "4      902.04  300.68  \n"
     ]
    }
   ],
   "source": [
    "# Load the datasets\n",
    "customers = pd.read_csv(\"Customers.csv\")\n",
    "products = pd.read_csv(\"Products.csv\")\n",
    "transactions = pd.read_csv(\"Transactions.csv\")\n",
    "\n",
    "print(customers.head(5))\n",
    "print('*'*100)\n",
    "print(products.head(5))\n",
    "print('*'*100)\n",
    "print(transactions.head(5))"
   ]
  },
  {
   "cell_type": "code",
   "execution_count": 23,
   "metadata": {},
   "outputs": [
    {
     "name": "stdout",
     "output_type": "stream",
     "text": [
      "<class 'pandas.core.frame.DataFrame'>\n",
      "RangeIndex: 200 entries, 0 to 199\n",
      "Data columns (total 4 columns):\n",
      " #   Column        Non-Null Count  Dtype \n",
      "---  ------        --------------  ----- \n",
      " 0   CustomerID    200 non-null    object\n",
      " 1   CustomerName  200 non-null    object\n",
      " 2   Region        200 non-null    object\n",
      " 3   SignupDate    200 non-null    object\n",
      "dtypes: object(4)\n",
      "memory usage: 6.4+ KB\n",
      "None\n",
      "<class 'pandas.core.frame.DataFrame'>\n",
      "RangeIndex: 100 entries, 0 to 99\n",
      "Data columns (total 4 columns):\n",
      " #   Column       Non-Null Count  Dtype  \n",
      "---  ------       --------------  -----  \n",
      " 0   ProductID    100 non-null    object \n",
      " 1   ProductName  100 non-null    object \n",
      " 2   Category     100 non-null    object \n",
      " 3   Price        100 non-null    float64\n",
      "dtypes: float64(1), object(3)\n",
      "memory usage: 3.3+ KB\n",
      "None\n",
      "<class 'pandas.core.frame.DataFrame'>\n",
      "RangeIndex: 1000 entries, 0 to 999\n",
      "Data columns (total 7 columns):\n",
      " #   Column           Non-Null Count  Dtype  \n",
      "---  ------           --------------  -----  \n",
      " 0   TransactionID    1000 non-null   object \n",
      " 1   CustomerID       1000 non-null   object \n",
      " 2   ProductID        1000 non-null   object \n",
      " 3   TransactionDate  1000 non-null   object \n",
      " 4   Quantity         1000 non-null   int64  \n",
      " 5   TotalValue       1000 non-null   float64\n",
      " 6   Price            1000 non-null   float64\n",
      "dtypes: float64(2), int64(1), object(4)\n",
      "memory usage: 54.8+ KB\n",
      "None\n"
     ]
    }
   ],
   "source": [
    "print(customers.info())\n",
    "print(products.info())\n",
    "print(transactions.info())"
   ]
  },
  {
   "cell_type": "code",
   "execution_count": 24,
   "metadata": {},
   "outputs": [
    {
     "name": "stdout",
     "output_type": "stream",
     "text": [
      "  TransactionID CustomerID ProductID      TransactionDate  Quantity  \\\n",
      "0        T00001      C0199      P067  2024-08-25 12:38:23         1   \n",
      "1        T00112      C0146      P067  2024-05-27 22:23:54         1   \n",
      "2        T00166      C0127      P067  2024-04-25 07:38:55         1   \n",
      "3        T00272      C0087      P067  2024-03-26 22:55:37         2   \n",
      "4        T00363      C0070      P067  2024-03-21 15:10:10         3   \n",
      "\n",
      "   TotalValue  Price_x                      ProductName     Category  Price_y  \\\n",
      "0      300.68   300.68  ComfortLiving Bluetooth Speaker  Electronics   300.68   \n",
      "1      300.68   300.68  ComfortLiving Bluetooth Speaker  Electronics   300.68   \n",
      "2      300.68   300.68  ComfortLiving Bluetooth Speaker  Electronics   300.68   \n",
      "3      601.36   300.68  ComfortLiving Bluetooth Speaker  Electronics   300.68   \n",
      "4      902.04   300.68  ComfortLiving Bluetooth Speaker  Electronics   300.68   \n",
      "\n",
      "      CustomerName         Region  SignupDate  \n",
      "0   Andrea Jenkins         Europe  2022-12-03  \n",
      "1  Brittany Harvey           Asia  2024-09-04  \n",
      "2  Kathryn Stevens         Europe  2024-04-04  \n",
      "3  Travis Campbell  South America  2024-04-11  \n",
      "4    Timothy Perez         Europe  2022-03-15  \n"
     ]
    }
   ],
   "source": [
    "\n",
    "# Merge datasets\n",
    "transactions = transactions.merge(products, on=\"ProductID\", how=\"left\")\n",
    "customer_data = transactions.merge(customers, on=\"CustomerID\", how=\"left\")\n",
    "print(customer_data.head(5))"
   ]
  },
  {
   "cell_type": "code",
   "execution_count": 25,
   "metadata": {},
   "outputs": [],
   "source": [
    "# Feature Engineering\n",
    "# Aggregate numerical features\n",
    "customer_profiles = customer_data.groupby(\"CustomerID\").agg(\n",
    "    TotalSpending=(\"TotalValue\", \"sum\"),\n",
    "    AvgTransactionValue=(\"TotalValue\", \"mean\"),\n",
    "    TotalQuantity=(\"Quantity\", \"sum\"),\n",
    "    UniqueProducts=(\"ProductID\", \"nunique\"),\n",
    ").reset_index()\n",
    "\n",
    "\n"
   ]
  },
  {
   "cell_type": "code",
   "execution_count": 26,
   "metadata": {},
   "outputs": [],
   "source": [
    "# Normalization\n",
    "scaler = MinMaxScaler()\n",
    "normalized_features = pd.DataFrame(\n",
    "    scaler.fit_transform(customer_profiles.iloc[:, 1:-1]),\n",
    "    columns=customer_profiles.columns[1:-1]\n",
    ")\n",
    "normalized_features[\"CustomerID\"] = customer_profiles[\"CustomerID\"]\n",
    "\n"
   ]
  },
  {
   "cell_type": "code",
   "execution_count": 27,
   "metadata": {},
   "outputs": [],
   "source": [
    "# Compute Similarity\n",
    "similarity_matrix = {}\n",
    "for i, customer in normalized_features.iterrows():\n",
    "    scores = []\n",
    "\n",
    "    for j, other_customer in normalized_features.iterrows():\n",
    "        if customer[\"CustomerID\"] != other_customer[\"CustomerID\"]:\n",
    "                                                                                      \n",
    "            distance = np.linalg.norm(customer[:-1] - other_customer[:-1])            # Calculate Euclidean Distance (or other metric)\n",
    "            similarity = 1 / (1 + distance)                                           # Convert to similarity score\n",
    "            scores.append((other_customer[\"CustomerID\"], similarity))\n",
    "    \n",
    "    \n",
    "    top_3 = sorted(scores, key=lambda x: x[1], reverse=True)[:3]                      # Sort by similarity and get top 3\n",
    "    similarity_matrix[customer[\"CustomerID\"]] = top_3"
   ]
  },
  {
   "cell_type": "code",
   "execution_count": 28,
   "metadata": {},
   "outputs": [
    {
     "name": "stdout",
     "output_type": "stream",
     "text": [
      "Lookalike.csv file created successfully!\n"
     ]
    }
   ],
   "source": [
    "# Create Lookalike.csv\n",
    "lookalike_data = []\n",
    "for cust_id, top_3 in similarity_matrix.items():\n",
    "    row = [cust_id]\n",
    "    for similar_cust, score in top_3:\n",
    "        row.append(similar_cust)\n",
    "        row.append(score)\n",
    "    lookalike_data.append(row)\n",
    "\n",
    "lookalike_df = pd.DataFrame(\n",
    "    lookalike_data,\n",
    "    columns=[\"CustomerID\", \"Lookalike1\", \"Score1\", \"Lookalike2\", \"Score2\", \"Lookalike3\", \"Score3\"]\n",
    ")\n",
    "lookalike_df.to_csv(\"Savitha_Lookalike.csv\", index=False)\n",
    "\n",
    "print(\"Lookalike.csv file created successfully!\")"
   ]
  }
 ],
 "metadata": {
  "kernelspec": {
   "display_name": "Python 3",
   "language": "python",
   "name": "python3"
  },
  "language_info": {
   "codemirror_mode": {
    "name": "ipython",
    "version": 3
   },
   "file_extension": ".py",
   "mimetype": "text/x-python",
   "name": "python",
   "nbconvert_exporter": "python",
   "pygments_lexer": "ipython3",
   "version": "3.11.7"
  }
 },
 "nbformat": 4,
 "nbformat_minor": 2
}
